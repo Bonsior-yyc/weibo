{
 "metadata": {
  "language_info": {
   "codemirror_mode": {
    "name": "ipython",
    "version": 3
   },
   "file_extension": ".py",
   "mimetype": "text/x-python",
   "name": "python",
   "nbconvert_exporter": "python",
   "pygments_lexer": "ipython3",
   "version": "3.8.7-final"
  },
  "orig_nbformat": 2,
  "kernelspec": {
   "name": "pycharm-dd99adf3",
   "language": "python",
   "display_name": "PyCharm (pytorcch)"
  }
 },
 "nbformat": 4,
 "nbformat_minor": 2,
 "cells": [
  {
   "cell_type": "code",
   "execution_count": 5,
   "metadata": {},
   "outputs": [
    {
     "data": {
      "text/plain": "0    633\n1    438\nName: rumor, dtype: int64"
     },
     "execution_count": 5,
     "metadata": {},
     "output_type": "execute_result"
    }
   ],
   "source": [
    "import pandas as pd\n",
    "\n",
    "dt = pd.read_excel(r'weibo.xlsx')\n",
    "\n",
    "dt = dt[dt.label==1]\n",
    "\n",
    "dt.rumor.value_counts()"
   ]
  },
  {
   "cell_type": "code",
   "execution_count": 6,
   "metadata": {
    "tags": []
   },
   "outputs": [
    {
     "name": "stderr",
     "output_type": "stream",
     "text": [
      "Building prefix dict from the default dictionary ...\n",
      "Loading model from cache C:\\Users\\74098\\AppData\\Local\\Temp\\jieba.cache\n",
      "Loading model cost 0.378 seconds.\n",
      "Prefix dict has been built successfully.\n"
     ]
    }
   ],
   "source": [
    "import os\n",
    "import jieba\n",
    "\n",
    "data_dir = './weibo'\n",
    "if not os.path.exists(data_dir):\n",
    "    os.mkdir(data_dir)\n",
    "for row in dt[dt.label==1].iterrows():\n",
    "    with open(os.path.join(data_dir,str(row[0])+'w.txt'), 'w+' ,encoding='utf-8') as f:\n",
    "        f.write(' '.join(jieba.cut(str(row[1].content))))\n"
   ]
  },
  {
   "cell_type": "code",
   "execution_count": 7,
   "metadata": {},
   "outputs": [
    {
     "data": {
      "text/plain": "      id                     title  \\\n0      2            新冠肺炎男性患者的死亡率更高   \n1      3          新冠死者平均只损失了几个月的寿命   \n2      4      人类可能无法对新冠病毒获得持久的免疫保护   \n3      5            警犬能够准确闻出感染新冠的人   \n4      6   香港新冠“二次感染”病例意味着群体免疫可能无效   \n..   ...                       ...   \n202  272     钟南山10月12日抵达青岛协助疫情防控工作   \n203  273     参加第三届进博会的所有外国人不用隔离14天   \n204  274               特朗普夫妇确诊新冠肺炎   \n205  275             国庆去青岛旅游健康码会变色   \n206  276  9月13日全国新增49名新冠确诊病例，分布多省市   \n\n                                               content result  \\\n0                近日有研究也表明全球60%的新冠死亡患者为男性，且比例接近女性患者的2倍。      真   \n1    此前有不少新闻显示很多国家新冠病死者年龄都比较大，让不少人以为这些上年纪的老人即使不患病也离...      假   \n2         有研究表明新冠病毒抗体的半衰期很短，所以我们可能没有办法对新冠病毒获得长时间的免疫保护。      真   \n3    2020年7月30日，阿联酋机场实际使用警犬作为一条额外的防线来辨别Covid-19病例。它...      疑   \n4    许多人期待着有足够多的人对新冠病毒产生免疫后，能够实现群体免疫，二次感染的发生可能意味着群体...      真   \n..                                                 ...    ...   \n202         近日，青岛人的朋友圈都在传一张图，“中国工程院院士钟南山已于10月12日抵达青岛”。      假   \n203  10月10日起，今年第三届进博会将于11月5日开幕，有人称“所有的外国人全部不隔离14天”、...      假   \n204                            美国总统特朗普及其夫人在新冠肺炎检测中呈阳性。      真   \n205  9月24日晚，青岛卫健委通报，发现2例新冠肺炎无症状感染者。因此在社交媒体上，有网友猜测“这...      假   \n206  近日，网传一段视频称，31个省份仅9月13日一天就增加49名新冠病例，确诊患者现在已经分布在...      假   \n\n                                                   url  \n0    https://vp.fact.qq.com/article?id=60df9d85d6bf...  \n1    https://vp.fact.qq.com/article?id=96bc42ee0e4e...  \n2    https://vp.fact.qq.com/article?id=343da72d4a0f...  \n3    https://vp.fact.qq.com/article?id=26269c39baf7...  \n4    https://vp.fact.qq.com/article?id=33c1d15df0f1...  \n..                                                 ...  \n202  https://vp.fact.qq.com/article?id=06f3c80e8751...  \n203  https://vp.fact.qq.com/article?id=ea16049fd35f...  \n204  https://vp.fact.qq.com/article?id=7fd7962a426d...  \n205  https://vp.fact.qq.com/article?id=caece6d62df4...  \n206  https://vp.fact.qq.com/article?id=7c47a1e932ab...  \n\n[207 rows x 5 columns]",
      "text/html": "<div>\n<style scoped>\n    .dataframe tbody tr th:only-of-type {\n        vertical-align: middle;\n    }\n\n    .dataframe tbody tr th {\n        vertical-align: top;\n    }\n\n    .dataframe thead th {\n        text-align: right;\n    }\n</style>\n<table border=\"1\" class=\"dataframe\">\n  <thead>\n    <tr style=\"text-align: right;\">\n      <th></th>\n      <th>id</th>\n      <th>title</th>\n      <th>content</th>\n      <th>result</th>\n      <th>url</th>\n    </tr>\n  </thead>\n  <tbody>\n    <tr>\n      <th>0</th>\n      <td>2</td>\n      <td>新冠肺炎男性患者的死亡率更高</td>\n      <td>近日有研究也表明全球60%的新冠死亡患者为男性，且比例接近女性患者的2倍。</td>\n      <td>真</td>\n      <td>https://vp.fact.qq.com/article?id=60df9d85d6bf...</td>\n    </tr>\n    <tr>\n      <th>1</th>\n      <td>3</td>\n      <td>新冠死者平均只损失了几个月的寿命</td>\n      <td>此前有不少新闻显示很多国家新冠病死者年龄都比较大，让不少人以为这些上年纪的老人即使不患病也离...</td>\n      <td>假</td>\n      <td>https://vp.fact.qq.com/article?id=96bc42ee0e4e...</td>\n    </tr>\n    <tr>\n      <th>2</th>\n      <td>4</td>\n      <td>人类可能无法对新冠病毒获得持久的免疫保护</td>\n      <td>有研究表明新冠病毒抗体的半衰期很短，所以我们可能没有办法对新冠病毒获得长时间的免疫保护。</td>\n      <td>真</td>\n      <td>https://vp.fact.qq.com/article?id=343da72d4a0f...</td>\n    </tr>\n    <tr>\n      <th>3</th>\n      <td>5</td>\n      <td>警犬能够准确闻出感染新冠的人</td>\n      <td>2020年7月30日，阿联酋机场实际使用警犬作为一条额外的防线来辨别Covid-19病例。它...</td>\n      <td>疑</td>\n      <td>https://vp.fact.qq.com/article?id=26269c39baf7...</td>\n    </tr>\n    <tr>\n      <th>4</th>\n      <td>6</td>\n      <td>香港新冠“二次感染”病例意味着群体免疫可能无效</td>\n      <td>许多人期待着有足够多的人对新冠病毒产生免疫后，能够实现群体免疫，二次感染的发生可能意味着群体...</td>\n      <td>真</td>\n      <td>https://vp.fact.qq.com/article?id=33c1d15df0f1...</td>\n    </tr>\n    <tr>\n      <th>...</th>\n      <td>...</td>\n      <td>...</td>\n      <td>...</td>\n      <td>...</td>\n      <td>...</td>\n    </tr>\n    <tr>\n      <th>202</th>\n      <td>272</td>\n      <td>钟南山10月12日抵达青岛协助疫情防控工作</td>\n      <td>近日，青岛人的朋友圈都在传一张图，“中国工程院院士钟南山已于10月12日抵达青岛”。</td>\n      <td>假</td>\n      <td>https://vp.fact.qq.com/article?id=06f3c80e8751...</td>\n    </tr>\n    <tr>\n      <th>203</th>\n      <td>273</td>\n      <td>参加第三届进博会的所有外国人不用隔离14天</td>\n      <td>10月10日起，今年第三届进博会将于11月5日开幕，有人称“所有的外国人全部不隔离14天”、...</td>\n      <td>假</td>\n      <td>https://vp.fact.qq.com/article?id=ea16049fd35f...</td>\n    </tr>\n    <tr>\n      <th>204</th>\n      <td>274</td>\n      <td>特朗普夫妇确诊新冠肺炎</td>\n      <td>美国总统特朗普及其夫人在新冠肺炎检测中呈阳性。</td>\n      <td>真</td>\n      <td>https://vp.fact.qq.com/article?id=7fd7962a426d...</td>\n    </tr>\n    <tr>\n      <th>205</th>\n      <td>275</td>\n      <td>国庆去青岛旅游健康码会变色</td>\n      <td>9月24日晚，青岛卫健委通报，发现2例新冠肺炎无症状感染者。因此在社交媒体上，有网友猜测“这...</td>\n      <td>假</td>\n      <td>https://vp.fact.qq.com/article?id=caece6d62df4...</td>\n    </tr>\n    <tr>\n      <th>206</th>\n      <td>276</td>\n      <td>9月13日全国新增49名新冠确诊病例，分布多省市</td>\n      <td>近日，网传一段视频称，31个省份仅9月13日一天就增加49名新冠病例，确诊患者现在已经分布在...</td>\n      <td>假</td>\n      <td>https://vp.fact.qq.com/article?id=7c47a1e932ab...</td>\n    </tr>\n  </tbody>\n</table>\n<p>207 rows × 5 columns</p>\n</div>"
     },
     "execution_count": 7,
     "metadata": {},
     "output_type": "execute_result"
    }
   ],
   "source": [
    "factq = pd.read_csv(r'factq.csv')\n",
    "for row in factq.iterrows():\n",
    "    with open(os.path.join(data_dir,str(row[0])+'f.txt'), 'w+' ,encoding='utf-8') as f:\n",
    "        f.write(' '.join(jieba.cut(str(row[1].content))))\n",
    "factq"
   ]
  },
  {
   "cell_type": "code",
   "execution_count": 8,
   "metadata": {},
   "outputs": [
    {
     "name": "stdout",
     "output_type": "stream",
     "text": [
      "      id                                      file       tp1       tp2  \\\n",
      "0      0     file:/D:/vscodeWorkspace/weibo/0f.txt  0.004080  0.002317   \n",
      "1      1  file:/D:/vscodeWorkspace/weibo/1009w.txt  0.001731  0.000983   \n",
      "2      2   file:/D:/vscodeWorkspace/weibo/100f.txt  0.093553  0.002728   \n",
      "3      3  file:/D:/vscodeWorkspace/weibo/1012w.txt  0.052011  0.001517   \n",
      "4      4  file:/D:/vscodeWorkspace/weibo/1013w.txt  0.002061  0.001170   \n",
      "..   ...                                       ...       ...       ...   \n",
      "645  645   file:/D:/vscodeWorkspace/weibo/996w.txt  0.992942  0.001016   \n",
      "646  646   file:/D:/vscodeWorkspace/weibo/999w.txt  0.002061  0.001170   \n",
      "647  647    file:/D:/vscodeWorkspace/weibo/99f.txt  0.001453  0.000825   \n",
      "648  648    file:/D:/vscodeWorkspace/weibo/99w.txt  0.016567  0.009408   \n",
      "649  649     file:/D:/vscodeWorkspace/weibo/9f.txt  0.118958  0.117603   \n",
      "\n",
      "          tp3       tp4       tp5  \n",
      "0    0.006003  0.986055  0.001545  \n",
      "1    0.993983  0.002647  0.000655  \n",
      "2    0.007068  0.894831  0.001819  \n",
      "3    0.941378  0.004083  0.001011  \n",
      "4    0.802490  0.193498  0.000780  \n",
      "..        ...       ...       ...  \n",
      "645  0.002631  0.002734  0.000677  \n",
      "646  0.992838  0.003151  0.000780  \n",
      "647  0.002137  0.995035  0.000550  \n",
      "648  0.942426  0.025327  0.006272  \n",
      "649  0.004612  0.062704  0.696123  \n",
      "\n",
      "[650 rows x 7 columns]\n"
     ]
    }
   ],
   "source": [
    "topics = pd.DataFrame(columns=['id', 'file', 'tp1', 'tp2', 'tp3', 'tp4', 'tp5'])\n",
    "with open('E:\\mallet\\doc-topics.txt', 'r', encoding='utf-8') as f:\n",
    "    lines = f.readlines()\n",
    "    for line in lines:\n",
    "        line = line.split()\n",
    "        topics = topics.append(pd.Series([line[0], line[1], float(line[2]), float(line[3]), float(line[4]), float(line[5]), float(line[6])],index=['id', 'file', 'tp1', 'tp2', 'tp3', 'tp4', 'tp5']), ignore_index=True)\n",
    "    print(topics)"
   ]
  },
  {
   "cell_type": "code",
   "execution_count": 9,
   "metadata": {},
   "outputs": [],
   "source": [
    "for topic in topics.iterrows():\n",
    "    topics.loc[topic[0], 'argmax'] = topic[1]['tp1':'tp5'].to_numpy().argmax() +1"
   ]
  },
  {
   "cell_type": "code",
   "execution_count": 61,
   "metadata": {},
   "outputs": [
    {
     "output_type": "stream",
     "name": "stdout",
     "text": [
      "<class 'pandas.core.frame.DataFrame'>\nRangeIndex: 650 entries, 0 to 649\nData columns (total 8 columns):\n #   Column  Non-Null Count  Dtype  \n---  ------  --------------  -----  \n 0   id      650 non-null    object \n 1   file    650 non-null    object \n 2   tp1     650 non-null    float64\n 3   tp2     650 non-null    float64\n 4   tp3     650 non-null    float64\n 5   tp4     650 non-null    float64\n 6   tp5     650 non-null    float64\n 7   argmax  650 non-null    float64\ndtypes: float64(6), object(2)\nmemory usage: 40.8+ KB\n"
     ]
    }
   ],
   "source": [
    "topics.info()"
   ]
  },
  {
   "cell_type": "code",
   "execution_count": 64,
   "metadata": {},
   "outputs": [],
   "source": [
    "topics.argmax.value_counts().to_excel('tags.xlsx')"
   ]
  },
  {
   "cell_type": "code",
   "execution_count": 80,
   "metadata": {},
   "outputs": [
    {
     "output_type": "execute_result",
     "data": {
      "text/plain": [
       "'近日有研究也表明全球60%的新冠死亡患者为男性，且比例接近女性患者的2倍。'"
      ]
     },
     "metadata": {},
     "execution_count": 80
    }
   ],
   "source": [
    "r = factq.content.to_list() + dt[dt.label==1].content.to_list()\n",
    "r[0]"
   ]
  },
  {
   "cell_type": "code",
   "execution_count": 81,
   "metadata": {},
   "outputs": [],
   "source": [
    "with open('D:\\OneDrive\\桌面\\cn_stopwords.txt', 'r') as f:\n",
    "    stop_words = f.read().split()"
   ]
  },
  {
   "cell_type": "code",
   "execution_count": 87,
   "metadata": {},
   "outputs": [
    {
     "output_type": "execute_result",
     "data": {
      "text/plain": [
       "28114"
      ]
     },
     "metadata": {},
     "execution_count": 87
    }
   ],
   "source": [
    "all_words = []\n",
    "for item in r:\n",
    "    ct = jieba.cut(str(item))\n",
    "    ct = [str(x) for x in ct if x not in stop_words]\n",
    "    all_words = all_words + ct\n",
    "len(all_words)"
   ]
  },
  {
   "cell_type": "code",
   "execution_count": 95,
   "metadata": {},
   "outputs": [
    {
     "output_type": "execute_result",
     "data": {
      "text/plain": [
       "[('\\u200b', 1190),\n",
       " ('\\n', 833),\n",
       " (' ', 755),\n",
       " ('#', 397),\n",
       " ('月', 335),\n",
       " ('日', 314),\n",
       " ('\\xa0', 251),\n",
       " ('新冠', 233),\n",
       " ('美国', 223),\n",
       " ('病毒', 215),\n",
       " ('中国', 212),\n",
       " ('疫情', 195),\n",
       " ('视频', 154),\n",
       " ('年', 135),\n",
       " ('肺炎', 120),\n",
       " ('微博', 105),\n",
       " ('感染', 96),\n",
       " ('医院', 95),\n",
       " ('一个', 94),\n",
       " ('L', 94),\n",
       " ('医疗', 93),\n",
       " ('武汉', 90),\n",
       " ('号院', 85),\n",
       " ('北京', 84),\n",
       " ('已经', 82),\n",
       " ('）', 81),\n",
       " ('（', 80),\n",
       " ('没有', 79),\n",
       " ('10', 79),\n",
       " ('口罩', 78)]"
      ]
     },
     "metadata": {},
     "execution_count": 95
    }
   ],
   "source": [
    "from collections import Counter\n",
    "\n",
    "sorted(dict(Counter(all_words)).items(),key = lambda x:x[1],reverse = True)[:30]"
   ]
  },
  {
   "cell_type": "code",
   "execution_count": 96,
   "metadata": {},
   "outputs": [
    {
     "output_type": "execute_result",
     "data": {
      "text/plain": [
       "6853"
      ]
     },
     "metadata": {},
     "execution_count": 96
    }
   ],
   "source": [
    "all_words_unique = []\n",
    "for item in r:\n",
    "    ct = jieba.cut(str(item))\n",
    "    ct = [str(x) for x in ct if x not in stop_words]\n",
    "    all_words_unique = all_words_unique + [x for x in ct if x not in all_words_unique]\n",
    "len(all_words_unique)"
   ]
  }
 ]
}