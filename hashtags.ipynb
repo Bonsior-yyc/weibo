{
 "metadata": {
  "language_info": {
   "codemirror_mode": {
    "name": "ipython",
    "version": 3
   },
   "file_extension": ".py",
   "mimetype": "text/x-python",
   "name": "python",
   "nbconvert_exporter": "python",
   "pygments_lexer": "ipython3",
   "version": "3.8.8-final"
  },
  "orig_nbformat": 2,
  "kernelspec": {
   "name": "pycharm-dd99adf3",
   "language": "python",
   "display_name": "PyCharm (pytorcch)"
  }
 },
 "nbformat": 4,
 "nbformat_minor": 2,
 "cells": [
  {
   "cell_type": "code",
   "execution_count": 64,
   "metadata": {},
   "outputs": [],
   "source": [
    "import pandas as pd\n",
    "\n",
    "\n",
    "data = pd.read_excel('weibo.xlsx')\n",
    "data = data[data.label==1]\n"
   ]
  },
  {
   "cell_type": "code",
   "execution_count": 65,
   "metadata": {},
   "outputs": [
    {
     "data": {
      "text/plain": "True     568\nFalse     60\nName: content, dtype: int64"
     },
     "execution_count": 65,
     "metadata": {},
     "output_type": "execute_result"
    }
   ],
   "source": [
    "data.loc[data.rumor==0, \"content\"].str.contains(\"#\").value_counts()"
   ]
  },
  {
   "cell_type": "code",
   "execution_count": 66,
   "metadata": {},
   "outputs": [
    {
     "data": {
      "text/plain": "False    273\nTrue     165\nName: content, dtype: int64"
     },
     "execution_count": 66,
     "metadata": {},
     "output_type": "execute_result"
    }
   ],
   "source": [
    "data.loc[data.rumor==1, \"content\"].str.contains(\"#\").value_counts()"
   ]
  },
  {
   "cell_type": "code",
   "execution_count": 67,
   "metadata": {},
   "outputs": [
    {
     "data": {
      "text/plain": "False    400\nTrue      38\nName: content, dtype: int64"
     },
     "execution_count": 67,
     "metadata": {},
     "output_type": "execute_result"
    }
   ],
   "source": [
    "data.loc[data.rumor==1, \"content\"].str.contains(\"【\").value_counts()"
   ]
  },
  {
   "cell_type": "code",
   "execution_count": 68,
   "metadata": {},
   "outputs": [
    {
     "data": {
      "text/plain": "False    422\nTrue      16\nName: content, dtype: int64"
     },
     "execution_count": 68,
     "metadata": {},
     "output_type": "execute_result"
    }
   ],
   "source": [
    "(data.loc[data.rumor==1, \"content\"].str.contains(\"【\") & data.loc[data.rumor==1, \"content\"].str.contains(\"#\")).value_counts()"
   ]
  },
  {
   "cell_type": "code",
   "execution_count": 69,
   "metadata": {},
   "outputs": [
    {
     "data": {
      "text/plain": "True     512\nFalse    116\nName: content, dtype: int64"
     },
     "execution_count": 69,
     "metadata": {},
     "output_type": "execute_result"
    }
   ],
   "source": [
    "data.loc[data.rumor==0, \"content\"].str.contains(\"【\").value_counts()"
   ]
  },
  {
   "cell_type": "code",
   "execution_count": 70,
   "metadata": {},
   "outputs": [
    {
     "data": {
      "text/plain": "True     467\nFalse    166\nName: content, dtype: int64"
     },
     "execution_count": 70,
     "metadata": {},
     "output_type": "execute_result"
    }
   ],
   "source": [
    "(data.loc[data.rumor==0, \"content\"].str.contains(\"【\") & data.loc[data.rumor==0, \"content\"].str.contains(\"#\")).value_counts()"
   ]
  },
  {
   "cell_type": "code",
   "execution_count": 71,
   "metadata": {},
   "outputs": [
    {
     "data": {
      "text/plain": "1.0    1071\nName: label, dtype: int64"
     },
     "execution_count": 71,
     "metadata": {},
     "output_type": "execute_result"
    }
   ],
   "source": [
    "data['label'].value_counts()"
   ]
  },
  {
   "cell_type": "code",
   "execution_count": 72,
   "metadata": {},
   "outputs": [
    {
     "data": {
      "text/plain": "True     616\nFalse     17\nName: is_certified, dtype: int64"
     },
     "execution_count": 72,
     "metadata": {},
     "output_type": "execute_result"
    }
   ],
   "source": [
    "data.loc[data.rumor==0,'is_certified'].value_counts()"
   ]
  },
  {
   "cell_type": "code",
   "execution_count": 73,
   "metadata": {},
   "outputs": [
    {
     "data": {
      "text/plain": "False    224\nTrue     214\nName: is_certified, dtype: int64"
     },
     "execution_count": 73,
     "metadata": {},
     "output_type": "execute_result"
    }
   ],
   "source": [
    "data.loc[data.rumor==1,'is_certified'].value_counts()"
   ]
  },
  {
   "cell_type": "code",
   "execution_count": 74,
   "metadata": {},
   "outputs": [
    {
     "data": {
      "text/plain": "Unnamed: 0           651.353881\nid                   652.353881\ncomment_number        69.004566\nthumb_number         740.057078\nrepost_number         91.899543\nis_certified           0.488584\nfollow_number       1462.700913\nfan_number        301598.335616\nweibo_number       13489.881279\nlabel                  1.000000\nrumor                  1.000000\nemotion                0.019972\ndtype: float64"
     },
     "execution_count": 74,
     "metadata": {},
     "output_type": "execute_result"
    }
   ],
   "source": [
    "data.loc[data.rumor==1].mean()"
   ]
  },
  {
   "cell_type": "code",
   "execution_count": 75,
   "metadata": {},
   "outputs": [
    {
     "data": {
      "text/plain": "Unnamed: 0        1.340000e+03\nid                1.341000e+03\ncomment_number    1.033286e+03\nthumb_number      1.524856e+04\nrepost_number     9.142954e+02\nis_certified      9.731438e-01\nfollow_number     1.341248e+03\nfan_number        3.992081e+07\nweibo_number      1.010404e+05\nlabel             1.000000e+00\nrumor             0.000000e+00\nemotion           1.759150e-02\ndtype: float64"
     },
     "execution_count": 75,
     "metadata": {},
     "output_type": "execute_result"
    }
   ],
   "source": [
    "data.loc[data.rumor==0].mean()"
   ]
  },
  {
   "cell_type": "code",
   "execution_count": 76,
   "outputs": [
    {
     "data": {
      "text/plain": "Unnamed: 0        1.340000e+03\nid                1.341000e+03\ncomment_number    1.033286e+03\nthumb_number      1.524856e+04\nrepost_number     9.142954e+02\nis_certified      9.731438e-01\nfollow_number     1.341248e+03\nfan_number        3.992081e+07\nweibo_number      1.010404e+05\nlabel             1.000000e+00\nrumor             0.000000e+00\nemotion           1.759150e-02\ndtype: float64"
     },
     "execution_count": 76,
     "metadata": {},
     "output_type": "execute_result"
    }
   ],
   "source": [
    "data.loc[data.rumor==0].mean()\n"
   ],
   "metadata": {
    "collapsed": false,
    "pycharm": {
     "name": "#%%\n"
    }
   }
  },
  {
   "cell_type": "code",
   "execution_count": 77,
   "outputs": [
    {
     "data": {
      "text/plain": "Unnamed: 0           651.353881\nid                   652.353881\ncomment_number        69.004566\nthumb_number         740.057078\nrepost_number         91.899543\nis_certified           0.488584\nfollow_number       1462.700913\nfan_number        301598.335616\nweibo_number       13489.881279\nlabel                  1.000000\nrumor                  1.000000\nemotion                0.019972\ndtype: float64"
     },
     "execution_count": 77,
     "metadata": {},
     "output_type": "execute_result"
    }
   ],
   "source": [
    "data.loc[data.rumor==1].mean()"
   ],
   "metadata": {
    "collapsed": false,
    "pycharm": {
     "name": "#%%\n"
    }
   }
  },
  {
   "cell_type": "code",
   "execution_count": 78,
   "outputs": [
    {
     "data": {
      "text/plain": "Unnamed: 0           251.817477\nid                   251.817477\ncomment_number       284.015252\nthumb_number        5618.993643\nrepost_number        729.958623\nis_certified           0.500441\nfollow_number       3138.190987\nfan_number        791895.473429\nweibo_number       20298.778985\nlabel                  0.000000\nrumor                  0.000000\nemotion                0.055034\ndtype: float64"
     },
     "execution_count": 78,
     "metadata": {},
     "output_type": "execute_result"
    }
   ],
   "source": [
    "data.loc[data.rumor==1].std()"
   ],
   "metadata": {
    "collapsed": false,
    "pycharm": {
     "name": "#%%\n"
    }
   }
  },
  {
   "cell_type": "code",
   "execution_count": 79,
   "outputs": [
    {
     "data": {
      "text/plain": "Unnamed: 0        1.828756e+02\nid                1.828756e+02\ncomment_number    3.273503e+03\nthumb_number      6.630912e+04\nrepost_number     3.395210e+03\nis_certified      1.617910e-01\nfollow_number     1.600640e+03\nfan_number        4.349867e+07\nweibo_number      7.218642e+04\nlabel             0.000000e+00\nrumor             0.000000e+00\nemotion           2.478426e-02\ndtype: float64"
     },
     "execution_count": 79,
     "metadata": {},
     "output_type": "execute_result"
    }
   ],
   "source": [
    "data.loc[data.rumor==0].std()"
   ],
   "metadata": {
    "collapsed": false,
    "pycharm": {
     "name": "#%%\n"
    }
   }
  },
  {
   "cell_type": "code",
   "execution_count": 80,
   "outputs": [
    {
     "data": {
      "text/plain": "       Unnamed: 0     id  weibo_id  \\\n0               0      1         1   \n1               1      2         2   \n2               2      3         2   \n3               3      4         2   \n4               4      5         2   \n...           ...    ...       ...   \n25947       25947  25948      1657   \n25948       25948  25949      1657   \n25949       25949  25950      1657   \n25950       25950  25951      1657   \n25951       25951  25952      1657   \n\n                                                 content  thumb_number  \\\n0      超话社区：你好，你感兴趣的“黑科技”已开通了超话社区～ 超话社区是微博旗下兴趣互动社区，快来...             1   \n1                                       夢浬那麽遠：有没有具体点的消息啊             1   \n2                           开心第一位：有人拍现场照片 说是脸都盖上了推进????的             0   \n3                      夢浬那麽遠：回复@开心第一位:搜了下 假的  是另外的 低血糖的人             1   \n4                                           KLBJZFDGH：假的             0   \n...                                                  ...           ...   \n25947  板桥路上202009：可以去黄埔区的体育中心（体育馆），不用预约，很多工作人员or摊位，基本...             0   \n25948               希望世界和平与健康：回复@板桥路上202009:好的，直接去就可以了是吧             0   \n25949                                      像胖达一样可爱叻：预约不上             7   \n25950                          像胖达一样可爱叻：回复@板桥路上202009:谢谢             0   \n25951        mymind娴：早上早点去应该能有机会现场取到号，这么好这么规范的接种场所大家踊跃参与             1   \n\n       reply_number  is_certified   emotion  \n0                 0         False  0.002564  \n1                 0         False  0.000000  \n2                 0         False  0.035714  \n3                 0         False  0.000000  \n4                 0         False -0.083333  \n...             ...           ...       ...  \n25947             0         False  0.040000  \n25948             0         False  0.166667  \n25949             2          True  0.076923  \n25950             0          True  0.080000  \n25951             0         False  0.116279  \n\n[25952 rows x 8 columns]",
      "text/html": "<div>\n<style scoped>\n    .dataframe tbody tr th:only-of-type {\n        vertical-align: middle;\n    }\n\n    .dataframe tbody tr th {\n        vertical-align: top;\n    }\n\n    .dataframe thead th {\n        text-align: right;\n    }\n</style>\n<table border=\"1\" class=\"dataframe\">\n  <thead>\n    <tr style=\"text-align: right;\">\n      <th></th>\n      <th>Unnamed: 0</th>\n      <th>id</th>\n      <th>weibo_id</th>\n      <th>content</th>\n      <th>thumb_number</th>\n      <th>reply_number</th>\n      <th>is_certified</th>\n      <th>emotion</th>\n    </tr>\n  </thead>\n  <tbody>\n    <tr>\n      <th>0</th>\n      <td>0</td>\n      <td>1</td>\n      <td>1</td>\n      <td>超话社区：你好，你感兴趣的“黑科技”已开通了超话社区～ 超话社区是微博旗下兴趣互动社区，快来...</td>\n      <td>1</td>\n      <td>0</td>\n      <td>False</td>\n      <td>0.002564</td>\n    </tr>\n    <tr>\n      <th>1</th>\n      <td>1</td>\n      <td>2</td>\n      <td>2</td>\n      <td>夢浬那麽遠：有没有具体点的消息啊</td>\n      <td>1</td>\n      <td>0</td>\n      <td>False</td>\n      <td>0.000000</td>\n    </tr>\n    <tr>\n      <th>2</th>\n      <td>2</td>\n      <td>3</td>\n      <td>2</td>\n      <td>开心第一位：有人拍现场照片 说是脸都盖上了推进????的</td>\n      <td>0</td>\n      <td>0</td>\n      <td>False</td>\n      <td>0.035714</td>\n    </tr>\n    <tr>\n      <th>3</th>\n      <td>3</td>\n      <td>4</td>\n      <td>2</td>\n      <td>夢浬那麽遠：回复@开心第一位:搜了下 假的  是另外的 低血糖的人</td>\n      <td>1</td>\n      <td>0</td>\n      <td>False</td>\n      <td>0.000000</td>\n    </tr>\n    <tr>\n      <th>4</th>\n      <td>4</td>\n      <td>5</td>\n      <td>2</td>\n      <td>KLBJZFDGH：假的</td>\n      <td>0</td>\n      <td>0</td>\n      <td>False</td>\n      <td>-0.083333</td>\n    </tr>\n    <tr>\n      <th>...</th>\n      <td>...</td>\n      <td>...</td>\n      <td>...</td>\n      <td>...</td>\n      <td>...</td>\n      <td>...</td>\n      <td>...</td>\n      <td>...</td>\n    </tr>\n    <tr>\n      <th>25947</th>\n      <td>25947</td>\n      <td>25948</td>\n      <td>1657</td>\n      <td>板桥路上202009：可以去黄埔区的体育中心（体育馆），不用预约，很多工作人员or摊位，基本...</td>\n      <td>0</td>\n      <td>0</td>\n      <td>False</td>\n      <td>0.040000</td>\n    </tr>\n    <tr>\n      <th>25948</th>\n      <td>25948</td>\n      <td>25949</td>\n      <td>1657</td>\n      <td>希望世界和平与健康：回复@板桥路上202009:好的，直接去就可以了是吧</td>\n      <td>0</td>\n      <td>0</td>\n      <td>False</td>\n      <td>0.166667</td>\n    </tr>\n    <tr>\n      <th>25949</th>\n      <td>25949</td>\n      <td>25950</td>\n      <td>1657</td>\n      <td>像胖达一样可爱叻：预约不上</td>\n      <td>7</td>\n      <td>2</td>\n      <td>True</td>\n      <td>0.076923</td>\n    </tr>\n    <tr>\n      <th>25950</th>\n      <td>25950</td>\n      <td>25951</td>\n      <td>1657</td>\n      <td>像胖达一样可爱叻：回复@板桥路上202009:谢谢</td>\n      <td>0</td>\n      <td>0</td>\n      <td>True</td>\n      <td>0.080000</td>\n    </tr>\n    <tr>\n      <th>25951</th>\n      <td>25951</td>\n      <td>25952</td>\n      <td>1657</td>\n      <td>mymind娴：早上早点去应该能有机会现场取到号，这么好这么规范的接种场所大家踊跃参与</td>\n      <td>1</td>\n      <td>0</td>\n      <td>False</td>\n      <td>0.116279</td>\n    </tr>\n  </tbody>\n</table>\n<p>25952 rows × 8 columns</p>\n</div>"
     },
     "execution_count": 80,
     "metadata": {},
     "output_type": "execute_result"
    }
   ],
   "source": [
    "comments = pd.read_excel(\"comments.xlsx\")\n",
    "comments"
   ],
   "metadata": {
    "collapsed": false,
    "pycharm": {
     "name": "#%%\n"
    }
   }
  },
  {
   "cell_type": "code",
   "execution_count": 81,
   "outputs": [],
   "source": [
    "def get_mean(id):\n",
    "    if len(comments.loc[comments.weibo_id==id, \"emotion\"]) == 0:\n",
    "        return 0\n",
    "    return comments.loc[comments.weibo_id==id, \"emotion\"].mean()\n",
    "\n",
    "data[\"emotion_mean\"] = data[\"id\"].apply(get_mean)\n",
    "\n",
    "\n",
    "def get_std(id):\n",
    "    if len(comments.loc[comments.weibo_id==id, \"emotion\"]) == 0:\n",
    "        return 0\n",
    "    return comments.loc[comments.weibo_id==id, \"emotion\"].std()\n",
    "\n",
    "data[\"emotion_std\"] = data[\"id\"].apply(get_std)\n",
    "\n",
    "def get_jc(id):\n",
    "    if len(comments.loc[comments.weibo_id==id, \"emotion\"]) <= 1:\n",
    "        return 0\n",
    "    return comments.loc[comments.weibo_id==id, \"emotion\"].max() - comments.loc[comments.weibo_id==id, \"emotion\"].min()\n",
    "\n",
    "data[\"emotion_jc\"] = data[\"id\"].apply(get_jc)"
   ],
   "metadata": {
    "collapsed": false,
    "pycharm": {
     "name": "#%%\n"
    }
   }
  },
  {
   "cell_type": "code",
   "execution_count": 82,
   "outputs": [
    {
     "data": {
      "text/plain": "Unnamed: 0        1.340000e+03\nid                1.341000e+03\ncomment_number    1.033286e+03\nthumb_number      1.524856e+04\nrepost_number     9.142954e+02\nis_certified      9.731438e-01\nfollow_number     1.341248e+03\nfan_number        3.992081e+07\nweibo_number      1.010404e+05\nlabel             1.000000e+00\nrumor             0.000000e+00\nemotion           1.759150e-02\nemotion_mean      3.356957e-02\nemotion_std       1.010441e-01\nemotion_jc        4.438612e-01\ndtype: float64"
     },
     "execution_count": 82,
     "metadata": {},
     "output_type": "execute_result"
    }
   ],
   "source": [
    "data.loc[data.rumor==0].mean()"
   ],
   "metadata": {
    "collapsed": false,
    "pycharm": {
     "name": "#%%\n"
    }
   }
  },
  {
   "cell_type": "code",
   "execution_count": 83,
   "outputs": [
    {
     "data": {
      "text/plain": "Unnamed: 0           651.353881\nid                   652.353881\ncomment_number        69.004566\nthumb_number         740.057078\nrepost_number         91.899543\nis_certified           0.488584\nfollow_number       1462.700913\nfan_number        301598.335616\nweibo_number       13489.881279\nlabel                  1.000000\nrumor                  1.000000\nemotion                0.019972\nemotion_mean           0.013072\nemotion_std            0.051831\nemotion_jc             0.189675\ndtype: float64"
     },
     "execution_count": 83,
     "metadata": {},
     "output_type": "execute_result"
    }
   ],
   "source": [
    "data.loc[data.rumor==1].mean()"
   ],
   "metadata": {
    "collapsed": false,
    "pycharm": {
     "name": "#%%\n"
    }
   }
  },
  {
   "cell_type": "code",
   "execution_count": 84,
   "outputs": [
    {
     "data": {
      "text/plain": "Unnamed: 0        1.828756e+02\nid                1.828756e+02\ncomment_number    3.273503e+03\nthumb_number      6.630912e+04\nrepost_number     3.395210e+03\nis_certified      1.617910e-01\nfollow_number     1.600640e+03\nfan_number        4.349867e+07\nweibo_number      7.218642e+04\nlabel             0.000000e+00\nrumor             0.000000e+00\nemotion           2.478426e-02\nemotion_mean      4.479153e-02\nemotion_std       8.656970e-02\nemotion_jc        4.656084e-01\ndtype: float64"
     },
     "execution_count": 84,
     "metadata": {},
     "output_type": "execute_result"
    }
   ],
   "source": [
    "data.loc[data.rumor==0].std()"
   ],
   "metadata": {
    "collapsed": false,
    "pycharm": {
     "name": "#%%\n"
    }
   }
  },
  {
   "cell_type": "code",
   "execution_count": 85,
   "outputs": [
    {
     "data": {
      "text/plain": "Unnamed: 0           251.817477\nid                   251.817477\ncomment_number       284.015252\nthumb_number        5618.993643\nrepost_number        729.958623\nis_certified           0.500441\nfollow_number       3138.190987\nfan_number        791895.473429\nweibo_number       20298.778985\nlabel                  0.000000\nrumor                  0.000000\nemotion                0.055034\nemotion_mean           0.040659\nemotion_std            0.067113\nemotion_jc             0.339061\ndtype: float64"
     },
     "execution_count": 85,
     "metadata": {},
     "output_type": "execute_result"
    }
   ],
   "source": [
    "data.loc[data.rumor==1].std()\n"
   ],
   "metadata": {
    "collapsed": false,
    "pycharm": {
     "name": "#%%\n"
    }
   }
  },
  {
   "cell_type": "code",
   "execution_count": 86,
   "outputs": [
    {
     "data": {
      "text/plain": "Unnamed: 0        1.340000e+03\nid                1.341000e+03\ncomment_number    1.033286e+03\nthumb_number      1.524856e+04\nrepost_number     9.142954e+02\nis_certified      9.731438e-01\nfollow_number     1.341248e+03\nfan_number        3.992081e+07\nweibo_number      1.010404e+05\nlabel             1.000000e+00\nrumor             0.000000e+00\nemotion           1.759150e-02\nemotion_mean      3.356957e-02\nemotion_std       1.010441e-01\nemotion_jc        4.438612e-01\nwis               1.521098e+00\ndtype: float64"
     },
     "execution_count": 86,
     "metadata": {},
     "output_type": "execute_result"
    }
   ],
   "source": [
    "import math\n",
    "data[\"wis\"] = (((data.repost_number + data.thumb_number)/2 +1) / (data.comment_number +1)).apply(math.log)\n",
    "data.loc[data.rumor==0].mean()"
   ],
   "metadata": {
    "collapsed": false,
    "pycharm": {
     "name": "#%%\n"
    }
   }
  },
  {
   "cell_type": "code",
   "execution_count": 87,
   "outputs": [
    {
     "data": {
      "text/plain": "Unnamed: 0           651.353881\nid                   652.353881\ncomment_number        69.004566\nthumb_number         740.057078\nrepost_number         91.899543\nis_certified           0.488584\nfollow_number       1462.700913\nfan_number        301598.335616\nweibo_number       13489.881279\nlabel                  1.000000\nrumor                  1.000000\nemotion                0.019972\nemotion_mean           0.013072\nemotion_std            0.051831\nemotion_jc             0.189675\nwis                    0.301074\ndtype: float64"
     },
     "execution_count": 87,
     "metadata": {},
     "output_type": "execute_result"
    }
   ],
   "source": [
    "data.loc[data.rumor==1].mean()"
   ],
   "metadata": {
    "collapsed": false,
    "pycharm": {
     "name": "#%%\n"
    }
   }
  },
  {
   "cell_type": "code",
   "execution_count": 88,
   "outputs": [
    {
     "data": {
      "text/plain": "Unnamed: 0        1.340000e+03\nid                1.341000e+03\ncomment_number    1.033286e+03\nthumb_number      1.524856e+04\nrepost_number     9.142954e+02\nis_certified      9.731438e-01\nfollow_number     1.341248e+03\nfan_number        3.992081e+07\nweibo_number      1.010404e+05\nlabel             1.000000e+00\nrumor             0.000000e+00\nemotion           1.759150e-02\nemotion_mean      3.356957e-02\nemotion_std       1.010441e-01\nemotion_jc        4.438612e-01\nwis               1.521098e+00\npti               9.586961e+00\ndtype: float64"
     },
     "execution_count": 88,
     "metadata": {},
     "output_type": "execute_result"
    }
   ],
   "source": [
    "data[\"pti\"] = ((data.fan_number +1) / (data.follow_number +1)).apply(math.log)\n",
    "data.loc[data.rumor==0].mean()"
   ],
   "metadata": {
    "collapsed": false,
    "pycharm": {
     "name": "#%%\n"
    }
   }
  },
  {
   "cell_type": "code",
   "execution_count": 89,
   "outputs": [
    {
     "data": {
      "text/plain": "Unnamed: 0           651.353881\nid                   652.353881\ncomment_number        69.004566\nthumb_number         740.057078\nrepost_number         91.899543\nis_certified           0.488584\nfollow_number       1462.700913\nfan_number        301598.335616\nweibo_number       13489.881279\nlabel                  1.000000\nrumor                  1.000000\nemotion                0.019972\nemotion_mean           0.013072\nemotion_std            0.051831\nemotion_jc             0.189675\nwis                    0.301074\npti                    2.981365\ndtype: float64"
     },
     "execution_count": 89,
     "metadata": {},
     "output_type": "execute_result"
    }
   ],
   "source": [
    "data.loc[data.rumor==1].mean()\n"
   ],
   "metadata": {
    "collapsed": false,
    "pycharm": {
     "name": "#%%\n"
    }
   }
  },
  {
   "cell_type": "code",
   "execution_count": 90,
   "outputs": [],
   "source": [
    "data.to_excel(\"weibo.xlsx\")\n"
   ],
   "metadata": {
    "collapsed": false,
    "pycharm": {
     "name": "#%%\n"
    }
   }
  }
 ]
}